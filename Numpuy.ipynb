{
 "cells": [
  {
   "cell_type": "markdown",
   "id": "96463f2f",
   "metadata": {},
   "source": [
    "### NumPy Coding Problems"
   ]
  },
  {
   "cell_type": "markdown",
   "id": "99359115",
   "metadata": {},
   "source": [
    "##### 1. Create a null vector of size 10 but the fifth value which is 1."
   ]
  },
  {
   "cell_type": "code",
   "execution_count": 8,
   "id": "e08461b6",
   "metadata": {},
   "outputs": [
    {
     "name": "stdout",
     "output_type": "stream",
     "text": [
      "[0. 0. 0. 0. 1. 0. 0. 0. 0. 0.]\n"
     ]
    }
   ],
   "source": [
    "import numpy as np\n",
    "\n",
    "arr=np.zeros(10)\n",
    "arr[4]=1\n",
    "print(arr)"
   ]
  },
  {
   "cell_type": "markdown",
   "id": "36b85aa0",
   "metadata": {},
   "source": [
    "#### 2. Create a vector with values ranging from 10 to 49."
   ]
  },
  {
   "cell_type": "code",
   "execution_count": 9,
   "id": "99e3f2ba",
   "metadata": {},
   "outputs": [
    {
     "name": "stdout",
     "output_type": "stream",
     "text": [
      "[10 11 12 13 14 15 16 17 18 19 20 21 22 23 24 25 26 27 28 29 30 31 32 33\n",
      " 34 35 36 37 38 39 40 41 42 43 44 45 46 47 48 49]\n"
     ]
    }
   ],
   "source": [
    "arr=np.arange(10,50)\n",
    "print(arr)"
   ]
  },
  {
   "cell_type": "markdown",
   "id": "a774bb8b",
   "metadata": {},
   "source": [
    "#### 3. Create a 3x3 matrix with values ranging from 0 to 8"
   ]
  },
  {
   "cell_type": "code",
   "execution_count": 12,
   "id": "9f5a3b96",
   "metadata": {},
   "outputs": [
    {
     "name": "stdout",
     "output_type": "stream",
     "text": [
      "[[0 1 2]\n",
      " [3 4 5]\n",
      " [6 7 8]]\n"
     ]
    }
   ],
   "source": [
    "arr =  np.arange(0, 9).reshape(3,3)\n",
    "print(arr)"
   ]
  },
  {
   "cell_type": "markdown",
   "id": "21167463",
   "metadata": {},
   "source": [
    "#### 4. Find indices of non-zero elements from [1,2,0,0,4,0]"
   ]
  },
  {
   "cell_type": "code",
   "execution_count": 15,
   "id": "bf1b8caf",
   "metadata": {},
   "outputs": [
    {
     "name": "stdout",
     "output_type": "stream",
     "text": [
      "(array([0, 1, 4], dtype=int64),)\n"
     ]
    }
   ],
   "source": [
    "arr=np.array([1,2,0,0,4,0])\n",
    "print(arr.nonzero())"
   ]
  },
  {
   "cell_type": "markdown",
   "id": "f8ced5e7",
   "metadata": {},
   "source": [
    "#### 5. Create a 10x10 array with random values and find the minimum and maximum values."
   ]
  },
  {
   "cell_type": "code",
   "execution_count": 19,
   "id": "182a050e",
   "metadata": {},
   "outputs": [
    {
     "name": "stdout",
     "output_type": "stream",
     "text": [
      "[[0.52926726 0.83154416 0.52839986 0.94700601 0.44722811 0.59194249\n",
      "  0.23933042 0.92751345 0.1506507  0.39096447]\n",
      " [0.07407675 0.1299387  0.84310848 0.40779827 0.65302307 0.8620448\n",
      "  0.29903514 0.58910699 0.30375266 0.32537467]\n",
      " [0.08997505 0.67967121 0.15900174 0.36378499 0.2904856  0.09058416\n",
      "  0.00873254 0.36818118 0.37598968 0.10371545]\n",
      " [0.11777602 0.13449524 0.46382149 0.88971448 0.66831876 0.65176516\n",
      "  0.90286854 0.98137729 0.49513134 0.53299624]\n",
      " [0.1524687  0.08073273 0.72713232 0.47370211 0.54956287 0.09633965\n",
      "  0.44902032 0.6654697  0.55999535 0.53217285]\n",
      " [0.1977303  0.74880916 0.13991493 0.5192473  0.26445124 0.09947941\n",
      "  0.68763414 0.66035434 0.25961803 0.24824766]\n",
      " [0.67413865 0.86579191 0.69777018 0.75679308 0.77838574 0.90801456\n",
      "  0.90495324 0.63749798 0.75123998 0.6588558 ]\n",
      " [0.25300871 0.56016491 0.19027251 0.31453954 0.01835832 0.50939379\n",
      "  0.21959747 0.05011202 0.01830418 0.74433483]\n",
      " [0.54271416 0.73861019 0.09770291 0.48605125 0.37494349 0.45764401\n",
      "  0.06982878 0.21614564 0.54606441 0.27202569]\n",
      " [0.89217957 0.82996399 0.99040798 0.35190111 0.97076315 0.52871194\n",
      "  0.55006043 0.35644674 0.5715638  0.68002712]]\n",
      "0.9904079819959729 0.008732541929083015\n"
     ]
    }
   ],
   "source": [
    "arr=np.random.rand(10,10)\n",
    "print(arr)\n",
    "print(arr.max(),arr.min())"
   ]
  },
  {
   "cell_type": "markdown",
   "id": "76f99e0b",
   "metadata": {},
   "source": [
    "#### 6. Create a random vector of size 30 and find the mean value."
   ]
  },
  {
   "cell_type": "code",
   "execution_count": 22,
   "id": "411436df",
   "metadata": {},
   "outputs": [
    {
     "name": "stdout",
     "output_type": "stream",
     "text": [
      "[0.12922439 0.90305342 0.952393   0.98646308 0.89635428 0.1976706\n",
      " 0.98523847 0.00687377 0.76727184 0.11407611 0.93808807 0.49969935\n",
      " 0.53713366 0.64206125 0.72962588 0.18175495 0.73735573 0.14743504\n",
      " 0.74304757 0.97531602 0.7499088  0.46561998 0.85746282 0.7008231\n",
      " 0.94606241 0.64991025 0.28653471 0.64791602 0.63756968 0.18390055]\n",
      "0.60652816038438\n"
     ]
    }
   ],
   "source": [
    "arr=np.random.rand(30)\n",
    "print(arr)\n",
    "print(arr.mean())"
   ]
  }
 ],
 "metadata": {
  "kernelspec": {
   "display_name": "Python 3 (ipykernel)",
   "language": "python",
   "name": "python3"
  },
  "language_info": {
   "codemirror_mode": {
    "name": "ipython",
    "version": 3
   },
   "file_extension": ".py",
   "mimetype": "text/x-python",
   "name": "python",
   "nbconvert_exporter": "python",
   "pygments_lexer": "ipython3",
   "version": "3.9.6"
  }
 },
 "nbformat": 4,
 "nbformat_minor": 5
}
